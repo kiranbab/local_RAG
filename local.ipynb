{
 "cells": [
  {
   "cell_type": "markdown",
   "metadata": {},
   "source": [
    "steps:\n",
    "\n",
    "1. import pdf doc\n",
    "2. process text for embedding(split into chunks of senten)\n",
    "3. embed text chunk with embedding model \n",
    "4. Save embedding to file for later"
   ]
  },
  {
   "cell_type": "code",
   "execution_count": 2,
   "metadata": {},
   "outputs": [
    {
     "name": "stdout",
     "output_type": "stream",
     "text": [
      "file human-nutrition-text.pdf exists\n"
     ]
    }
   ],
   "source": [
    "import os \n",
    "import requests\n",
    "\n",
    "# get pdf doc \n",
    "pdf_path = \"human-nutrition-text.pdf\"\n",
    "\n",
    "if not os.path.exists(pdf_path):\n",
    "    print(f\"[info] file doesn't exists, downloading...\")\n",
    "\n",
    "    url =\" https://pressbooks.oer.hawaii.edu/humannutrition2/open/download?type=pdf\"\n",
    "\n",
    "    response = requests.get(url)\n",
    "\n",
    "    if response.status_code == 200:\n",
    "        with open(pdf_path,\"wb\") as file:\n",
    "            file.write(response.content)\n",
    "        print(f\"[INFO] file has downloaded \")\n",
    "    else:\n",
    "        print(f\"Failed to download file {response.status_code}\")\n",
    "else:\n",
    "    print(f\"file {pdf_path} exists\")"
   ]
  },
  {
   "cell_type": "code",
   "execution_count": null,
   "metadata": {},
   "outputs": [],
   "source": []
  }
 ],
 "metadata": {
  "kernelspec": {
   "display_name": "Python 3",
   "language": "python",
   "name": "python3"
  },
  "language_info": {
   "codemirror_mode": {
    "name": "ipython",
    "version": 3
   },
   "file_extension": ".py",
   "mimetype": "text/x-python",
   "name": "python",
   "nbconvert_exporter": "python",
   "pygments_lexer": "ipython3",
   "version": "3.11.7"
  }
 },
 "nbformat": 4,
 "nbformat_minor": 2
}
