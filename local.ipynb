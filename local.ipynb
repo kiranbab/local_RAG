{
 "cells": [
  {
   "cell_type": "markdown",
   "metadata": {},
   "source": [
    "steps:\n",
    "\n",
    "1. import pdf doc\n",
    "2. process text for embedding(split into chunks of senten)\n",
    "3. embed text chunk with embedding model \n",
    "4. Save embedding to file for later"
   ]
  },
  {
   "cell_type": "code",
   "execution_count": 3,
   "metadata": {},
   "outputs": [
    {
     "name": "stdout",
     "output_type": "stream",
     "text": [
      "file human-nutrition-text.pdf exists\n"
     ]
    }
   ],
   "source": [
    "import os \n",
    "import requests\n",
    "\n",
    "# get pdf doc \n",
    "pdf_path = \"human-nutrition-text.pdf\"\n",
    "\n",
    "if not os.path.exists(pdf_path):\n",
    "    print(f\"[info] file doesn't exists, downloading...\")\n",
    "\n",
    "    url =\" https://pressbooks.oer.hawaii.edu/humannutrition2/open/download?type=pdf\"\n",
    "\n",
    "    response = requests.get(url)\n",
    "\n",
    "    if response.status_code == 200:\n",
    "        with open(pdf_path,\"wb\") as file:\n",
    "            file.write(response.content)\n",
    "        print(f\"[INFO] file has downloaded \")\n",
    "    else:\n",
    "        print(f\"Failed to download file {response.status_code}\")\n",
    "else:\n",
    "    print(f\"file {pdf_path} exists\")"
   ]
  },
  {
   "cell_type": "code",
   "execution_count": 4,
   "metadata": {},
   "outputs": [],
   "source": [
    "import fitz  # Ensure this import is at the top\n",
    "from tqdm.auto import tqdm\n",
    "\n",
    "def text_formatter(text: str) -> str:\n",
    "    cleaned_text = text.replace('\\n', \" \").strip()\n",
    "    return cleaned_text\n",
    "\n",
    "def open_and_read_pdf(pdf_path: str) -> list[dict]:\n",
    "    doc = fitz.open(pdf_path)\n",
    "    pages_and_text = []\n",
    "    for page_number, page in tqdm(enumerate(doc)):  \n",
    "        text = page.get_text()\n",
    "        text = text_formatter(text=text)\n",
    "        pages_and_text.append({\n",
    "            \"page_number\": page_number-41,  # Corrected page numbering\n",
    "            \"page_char_count\": len(text),\n",
    "            \"page_word_count\": len(text.split(\" \")),\n",
    "            \"page_sentence_count_raw\": len(text.split(\". \")),\n",
    "            \"page_token_count\": len(text)/4,  # Assuming tokens are words; corrected calculation\n",
    "            \"text\": text\n",
    "        })\n",
    "\n",
    "    return pages_and_text\n",
    "\n"
   ]
  },
  {
   "cell_type": "code",
   "execution_count": 6,
   "metadata": {},
   "outputs": [
    {
     "data": {
      "application/vnd.jupyter.widget-view+json": {
       "model_id": "dac9da78dee84d039cfd5b110c9fb828",
       "version_major": 2,
       "version_minor": 0
      },
      "text/plain": [
       "0it [00:00, ?it/s]"
      ]
     },
     "metadata": {},
     "output_type": "display_data"
    },
    {
     "data": {
      "text/plain": [
       "[{'page_number': -41,\n",
       "  'page_char_count': 29,\n",
       "  'page_word_count': 4,\n",
       "  'page_sentence_count_raw': 1,\n",
       "  'page_token_count': 7.25,\n",
       "  'text': 'Human Nutrition: 2020 Edition'},\n",
       " {'page_number': -40,\n",
       "  'page_char_count': 0,\n",
       "  'page_word_count': 1,\n",
       "  'page_sentence_count_raw': 1,\n",
       "  'page_token_count': 0.0,\n",
       "  'text': ''}]"
      ]
     },
     "execution_count": 6,
     "metadata": {},
     "output_type": "execute_result"
    }
   ],
   "source": [
    "pages_and_texts  = open_and_read_pdf(pdf_path=pdf_path)\n",
    "pages_and_texts[:2]"
   ]
  },
  {
   "cell_type": "code",
   "execution_count": 7,
   "metadata": {},
   "outputs": [
    {
     "data": {
      "text/plain": [
       "[{'page_number': 457,\n",
       "  'page_char_count': 1597,\n",
       "  'page_word_count': 271,\n",
       "  'page_sentence_count_raw': 15,\n",
       "  'page_token_count': 399.25,\n",
       "  'text': 'details on food composition data, go to the USDA Food Composition  Databases page.  An Organism Requires Energy and Nutrient  Input  Energy is required in order to build molecules into larger  macromolecules (like proteins), and to turn macromolecules into  organelles and cells, which then turn into tissues, organs, and organ  systems, and finally into an organism. Proper nutrition provides  the necessary nutrients to make the energy that supports life’s  processes. Your body builds new macromolecules from the  nutrients in food.  Nutrient and Energy Flow  Energy is stored in a nutrient’s chemical bonds. Energy comes from  sunlight, which plants capture and, via photosynthesis, use it to  transform carbon dioxide in the air into the molecule glucose. When  the glucose bonds are broken, energy is released. Bacteria, plants,  and animals (including humans) harvest the energy in glucose via a  biological process called cellular respiration. In this process oxygen  is required and the chemical energy of glucose is gradually released  in a series of chemical reactions. Some of this energy is trapped  in the molecule adenosine triphosphate (ATP) and some is lost as  heat. ATP can be used when needed to drive chemical reactions in  cells that require an input of energy. Cellular respiration requires  oxygen (aerobic) and it is provided as a byproduct of photosynthesis.  The byproducts of cellular respiration are carbon dioxide (CO2) and  water, which plants use to conduct photosynthesis again. Thus,  carbon is constantly cycling between plants and animals.  Introduction  |  457'},\n",
       " {'page_number': 644,\n",
       "  'page_char_count': 493,\n",
       "  'page_word_count': 83,\n",
       "  'page_sentence_count_raw': 4,\n",
       "  'page_token_count': 123.25,\n",
       "  'text': 'downloadable versions (EPUB, Digital PDF, Print_PDF, or  Open Document).  Learning activities may be used across various mobile  devices, however, for the best user experience it is strongly  recommended that users complete these activities using a  desktop or laptop computer and in Google Chrome.  \\xa0 An interactive or media element has been  excluded from this version of the text. You can  view it online here:  http:/ /pressbooks.oer.hawaii.edu/ humannutrition2/?p=370  \\xa0 644  |  Magnesium'},\n",
       " {'page_number': 471,\n",
       "  'page_char_count': 97,\n",
       "  'page_word_count': 15,\n",
       "  'page_sentence_count_raw': 1,\n",
       "  'page_token_count': 24.25,\n",
       "  'text': 'view it online here:  http:/ /pressbooks.oer.hawaii.edu/ humannutrition2/?p=301  The Atom  |  471'}]"
      ]
     },
     "execution_count": 7,
     "metadata": {},
     "output_type": "execute_result"
    }
   ],
   "source": [
    "import random \n",
    "random.sample(pages_and_texts,k=3)"
   ]
  },
  {
   "cell_type": "code",
   "execution_count": 8,
   "metadata": {},
   "outputs": [
    {
     "data": {
      "text/html": [
       "<div>\n",
       "<style scoped>\n",
       "    .dataframe tbody tr th:only-of-type {\n",
       "        vertical-align: middle;\n",
       "    }\n",
       "\n",
       "    .dataframe tbody tr th {\n",
       "        vertical-align: top;\n",
       "    }\n",
       "\n",
       "    .dataframe thead th {\n",
       "        text-align: right;\n",
       "    }\n",
       "</style>\n",
       "<table border=\"1\" class=\"dataframe\">\n",
       "  <thead>\n",
       "    <tr style=\"text-align: right;\">\n",
       "      <th></th>\n",
       "      <th>page_number</th>\n",
       "      <th>page_char_count</th>\n",
       "      <th>page_word_count</th>\n",
       "      <th>page_sentence_count_raw</th>\n",
       "      <th>page_token_count</th>\n",
       "      <th>text</th>\n",
       "    </tr>\n",
       "  </thead>\n",
       "  <tbody>\n",
       "    <tr>\n",
       "      <th>0</th>\n",
       "      <td>-41</td>\n",
       "      <td>29</td>\n",
       "      <td>4</td>\n",
       "      <td>1</td>\n",
       "      <td>7.25</td>\n",
       "      <td>Human Nutrition: 2020 Edition</td>\n",
       "    </tr>\n",
       "    <tr>\n",
       "      <th>1</th>\n",
       "      <td>-40</td>\n",
       "      <td>0</td>\n",
       "      <td>1</td>\n",
       "      <td>1</td>\n",
       "      <td>0.00</td>\n",
       "      <td></td>\n",
       "    </tr>\n",
       "    <tr>\n",
       "      <th>2</th>\n",
       "      <td>-39</td>\n",
       "      <td>320</td>\n",
       "      <td>54</td>\n",
       "      <td>1</td>\n",
       "      <td>80.00</td>\n",
       "      <td>Human Nutrition: 2020  Edition  UNIVERSITY OF ...</td>\n",
       "    </tr>\n",
       "    <tr>\n",
       "      <th>3</th>\n",
       "      <td>-38</td>\n",
       "      <td>212</td>\n",
       "      <td>32</td>\n",
       "      <td>1</td>\n",
       "      <td>53.00</td>\n",
       "      <td>Human Nutrition: 2020 Edition by University of...</td>\n",
       "    </tr>\n",
       "    <tr>\n",
       "      <th>4</th>\n",
       "      <td>-37</td>\n",
       "      <td>797</td>\n",
       "      <td>145</td>\n",
       "      <td>2</td>\n",
       "      <td>199.25</td>\n",
       "      <td>Contents  Preface  University of Hawai‘i at Mā...</td>\n",
       "    </tr>\n",
       "  </tbody>\n",
       "</table>\n",
       "</div>"
      ],
      "text/plain": [
       "   page_number  page_char_count  page_word_count  page_sentence_count_raw  \\\n",
       "0          -41               29                4                        1   \n",
       "1          -40                0                1                        1   \n",
       "2          -39              320               54                        1   \n",
       "3          -38              212               32                        1   \n",
       "4          -37              797              145                        2   \n",
       "\n",
       "   page_token_count                                               text  \n",
       "0              7.25                      Human Nutrition: 2020 Edition  \n",
       "1              0.00                                                     \n",
       "2             80.00  Human Nutrition: 2020  Edition  UNIVERSITY OF ...  \n",
       "3             53.00  Human Nutrition: 2020 Edition by University of...  \n",
       "4            199.25  Contents  Preface  University of Hawai‘i at Mā...  "
      ]
     },
     "execution_count": 8,
     "metadata": {},
     "output_type": "execute_result"
    }
   ],
   "source": [
    "import pandas as pd \n",
    "df=pd.DataFrame(pages_and_texts)\n",
    "df.head()"
   ]
  },
  {
   "cell_type": "markdown",
   "metadata": {},
   "source": [
    "Token Count \n",
    "1. Emebdding model dont deal in infinite token \n",
    "2. LLM dont deal wiht infite token \n",
    "\n",
    "Some embedding model may been trained to embed seqence of 384 token into numerical space. "
   ]
  },
  {
   "cell_type": "markdown",
   "metadata": {},
   "source": [
    "## Splitting pages into sentence\n",
    "\n",
    "1. we can do this by splitting on \". \"\n",
    "2. we can use nlp libraries like spacy  and nltk"
   ]
  },
  {
   "cell_type": "code",
   "execution_count": 22,
   "metadata": {},
   "outputs": [
    {
     "name": "stdout",
     "output_type": "stream",
     "text": [
      "<generator object at 0x178ea2e60>\n"
     ]
    }
   ],
   "source": [
    "from spacy.lang.en import English \n",
    "nlp = English()\n",
    "\n",
    "# Add a sentenizer pipeline \n",
    "nlp.add_pipe(\"sentencizer\")\n",
    "# document instance \n",
    "doc = nlp (\"This is a sentence, This is antoher sentence. I like elephant\")\n",
    "# assert len(list(doc.sents))  ==3 \n",
    "\n",
    "print(doc.sents)"
   ]
  },
  {
   "cell_type": "code",
   "execution_count": 28,
   "metadata": {},
   "outputs": [
    {
     "name": "stdout",
     "output_type": "stream",
     "text": [
      "This is a sentence.\n",
      "This is another sentence.\n",
      "I like elephants.\n"
     ]
    }
   ],
   "source": [
    "from spacy.lang.en import English \n",
    "nlp = English()\n",
    "\n",
    "# sentencizer pipeline \n",
    "nlp.add_pipe(\"sentencizer\")\n",
    "# document instance \n",
    "doc = nlp(\"This is a sentence. This is another sentence. I like elephants.\")\n",
    "assert len(list(doc.sents)) == 3 \n",
    "\n",
    "# print(doc.sents)\n",
    "for sent in doc.sents:\n",
    "    print(sent.text)"
   ]
  },
  {
   "cell_type": "code",
   "execution_count": 30,
   "metadata": {},
   "outputs": [
    {
     "data": {
      "text/plain": [
       "{'page_number': 1159,\n",
       " 'page_char_count': 1575,\n",
       " 'page_word_count': 285,\n",
       " 'page_sentence_count_raw': 14,\n",
       " 'page_token_count': 393.75,\n",
       " 'text': '32. Figure 15.2 reused “Two Women Riding Bikes” by David Marcu/  Unsplash License  33. Figure 15. reused “Man wearing blue shirt standing on white  surfboard” by Alex Blajan / Unsplash License  34. Figure 16.3 Anaerobic versus Aerobic Metabolism by Allison  Calabrese / CC BY 4.0  35. Figure 16.4 The Effect of Exercise Duration on Energy Systems”  by Allison Calabrese / CC BY 4.0  36. Figure 16.5 “Fuel Sources for Anaerobic and Aerobic  Metabolism reused “Liver” by Maritacovarrubias / Public  Domain; “Bread” by Jack7 / Public Domain; “Muscle types” by  Bruce Balus / CC BY-SA 4.0; “Tango style chicken leg” by  Rugby471 / Public Domain; “Male body silhouette” by mlampret  / Public Domain  37. Figure 16.6 The Effect of Exercise Intensity on Fuel Sources  reused “Happy reading guy” from Max Pixel / CC0; “Surfers  surfing waters” by hhach / CC0; “Football runner ball” by  Skeeze / CC0  38. Figure 16.7 Relative Energy Deficiency in Sport Effects reused  woman running icon by chelsey832 / Public Domain; Full  english breakfast by OgreofWart / Public Domain  39. Figure 16.11 The Effect of Exercise on Sodium Levels reused  male body silhouette by mlampret / Public Domain  40. Figure 17.1 Viruses in the Human Body reused “Simple columnar  epithelial cells” by McortNGHH / CC BY 3.0  Exercise Images  1. Exercise 2.1 reused “Digestive system without labels” by  Mariana Ruiz / Public Domain  2. Exercise 2.2a reused “Major Endocrine Glands” by National  Cancer Institute / Public Domain  3. Exercise 2.2a reused “Simplified diagram of the human  Attributions  |  1159'}"
      ]
     },
     "execution_count": 30,
     "metadata": {},
     "output_type": "execute_result"
    }
   ],
   "source": [
    "pages_and_texts[1200]"
   ]
  },
  {
   "cell_type": "code",
   "execution_count": 31,
   "metadata": {},
   "outputs": [
    {
     "data": {
      "application/vnd.jupyter.widget-view+json": {
       "model_id": "58d2a199967a49929ace0b7d61657ad0",
       "version_major": 2,
       "version_minor": 0
      },
      "text/plain": [
       "  0%|          | 0/1208 [00:00<?, ?it/s]"
      ]
     },
     "metadata": {},
     "output_type": "display_data"
    }
   ],
   "source": [
    "for item in tqdm(pages_and_texts):\n",
    "    item['sentences'] = list(nlp(item['text']).sents)\n",
    "    \n",
    "    # all sentences are strings \n",
    "    item['sentences'] = [str(sentence) for sentence in item['sentences']]\n",
    "\n",
    "    # count sentences \n",
    "    item['page_sentence_count_spacy'] = len(item['sentences'])"
   ]
  },
  {
   "cell_type": "code",
   "execution_count": 33,
   "metadata": {},
   "outputs": [
    {
     "data": {
      "text/plain": [
       "[{'page_number': 59,\n",
       "  'page_char_count': 629,\n",
       "  'page_word_count': 109,\n",
       "  'page_sentence_count_raw': 4,\n",
       "  'page_token_count': 157.25,\n",
       "  'text': 'Digestive  system  without  labels by  Mariana  Ruiz / Public  Domain  Knowing how to maintain the balance of friendly bacteria in your  intestines through proper diet can promote overall health. Recent  scientific studies have shown that probiotic supplements positively  affect intestinal microbial flora, which in turn positively affect  immune system function. As good nutrition is known to influence  immunity, there is great interest in using probiotic foods and other  immune-system-friendly foods as a way to prevent illness. In this  chapter we will explore not only immune system function, but also  Introduction  |  59',\n",
       "  'sentences': ['Digestive  system  without  labels by  Mariana  Ruiz / Public  Domain  Knowing how to maintain the balance of friendly bacteria in your  intestines through proper diet can promote overall health.',\n",
       "   'Recent  scientific studies have shown that probiotic supplements positively  affect intestinal microbial flora, which in turn positively affect  immune system function.',\n",
       "   'As good nutrition is known to influence  immunity, there is great interest in using probiotic foods and other  immune-system-friendly foods as a way to prevent illness.',\n",
       "   'In this  chapter we will explore not only immune system function, but also  Introduction  |  59'],\n",
       "  'page_sentence_count_spacy': 4}]"
      ]
     },
     "execution_count": 33,
     "metadata": {},
     "output_type": "execute_result"
    }
   ],
   "source": [
    "random.sample(pages_and_texts,k=1)"
   ]
  },
  {
   "cell_type": "code",
   "execution_count": 34,
   "metadata": {},
   "outputs": [
    {
     "data": {
      "text/html": [
       "<div>\n",
       "<style scoped>\n",
       "    .dataframe tbody tr th:only-of-type {\n",
       "        vertical-align: middle;\n",
       "    }\n",
       "\n",
       "    .dataframe tbody tr th {\n",
       "        vertical-align: top;\n",
       "    }\n",
       "\n",
       "    .dataframe thead th {\n",
       "        text-align: right;\n",
       "    }\n",
       "</style>\n",
       "<table border=\"1\" class=\"dataframe\">\n",
       "  <thead>\n",
       "    <tr style=\"text-align: right;\">\n",
       "      <th></th>\n",
       "      <th>page_number</th>\n",
       "      <th>page_char_count</th>\n",
       "      <th>page_word_count</th>\n",
       "      <th>page_sentence_count_raw</th>\n",
       "      <th>page_token_count</th>\n",
       "      <th>page_sentence_count_spacy</th>\n",
       "    </tr>\n",
       "  </thead>\n",
       "  <tbody>\n",
       "    <tr>\n",
       "      <th>count</th>\n",
       "      <td>1208.00</td>\n",
       "      <td>1208.00</td>\n",
       "      <td>1208.00</td>\n",
       "      <td>1208.00</td>\n",
       "      <td>1208.00</td>\n",
       "      <td>1208.00</td>\n",
       "    </tr>\n",
       "    <tr>\n",
       "      <th>mean</th>\n",
       "      <td>562.50</td>\n",
       "      <td>1148.59</td>\n",
       "      <td>198.89</td>\n",
       "      <td>9.97</td>\n",
       "      <td>287.15</td>\n",
       "      <td>10.32</td>\n",
       "    </tr>\n",
       "    <tr>\n",
       "      <th>std</th>\n",
       "      <td>348.86</td>\n",
       "      <td>560.44</td>\n",
       "      <td>95.75</td>\n",
       "      <td>6.19</td>\n",
       "      <td>140.11</td>\n",
       "      <td>6.30</td>\n",
       "    </tr>\n",
       "    <tr>\n",
       "      <th>min</th>\n",
       "      <td>-41.00</td>\n",
       "      <td>0.00</td>\n",
       "      <td>1.00</td>\n",
       "      <td>1.00</td>\n",
       "      <td>0.00</td>\n",
       "      <td>0.00</td>\n",
       "    </tr>\n",
       "    <tr>\n",
       "      <th>25%</th>\n",
       "      <td>260.75</td>\n",
       "      <td>762.75</td>\n",
       "      <td>134.00</td>\n",
       "      <td>4.00</td>\n",
       "      <td>190.69</td>\n",
       "      <td>5.00</td>\n",
       "    </tr>\n",
       "    <tr>\n",
       "      <th>50%</th>\n",
       "      <td>562.50</td>\n",
       "      <td>1232.50</td>\n",
       "      <td>215.00</td>\n",
       "      <td>10.00</td>\n",
       "      <td>308.12</td>\n",
       "      <td>10.00</td>\n",
       "    </tr>\n",
       "    <tr>\n",
       "      <th>75%</th>\n",
       "      <td>864.25</td>\n",
       "      <td>1605.25</td>\n",
       "      <td>271.25</td>\n",
       "      <td>14.00</td>\n",
       "      <td>401.31</td>\n",
       "      <td>15.00</td>\n",
       "    </tr>\n",
       "    <tr>\n",
       "      <th>max</th>\n",
       "      <td>1166.00</td>\n",
       "      <td>2308.00</td>\n",
       "      <td>429.00</td>\n",
       "      <td>32.00</td>\n",
       "      <td>577.00</td>\n",
       "      <td>28.00</td>\n",
       "    </tr>\n",
       "  </tbody>\n",
       "</table>\n",
       "</div>"
      ],
      "text/plain": [
       "       page_number  page_char_count  page_word_count  page_sentence_count_raw  \\\n",
       "count      1208.00          1208.00          1208.00                  1208.00   \n",
       "mean        562.50          1148.59           198.89                     9.97   \n",
       "std         348.86           560.44            95.75                     6.19   \n",
       "min         -41.00             0.00             1.00                     1.00   \n",
       "25%         260.75           762.75           134.00                     4.00   \n",
       "50%         562.50          1232.50           215.00                    10.00   \n",
       "75%         864.25          1605.25           271.25                    14.00   \n",
       "max        1166.00          2308.00           429.00                    32.00   \n",
       "\n",
       "       page_token_count  page_sentence_count_spacy  \n",
       "count           1208.00                    1208.00  \n",
       "mean             287.15                      10.32  \n",
       "std              140.11                       6.30  \n",
       "min                0.00                       0.00  \n",
       "25%              190.69                       5.00  \n",
       "50%              308.12                      10.00  \n",
       "75%              401.31                      15.00  \n",
       "max              577.00                      28.00  "
      ]
     },
     "execution_count": 34,
     "metadata": {},
     "output_type": "execute_result"
    }
   ],
   "source": [
    "df = pd.DataFrame(pages_and_texts)\n",
    "df.describe().round(2)"
   ]
  },
  {
   "cell_type": "markdown",
   "metadata": {},
   "source": [
    "#### Chunking sentence in group of 10(arbitary number)(based on page_setence_count_spacy)"
   ]
  },
  {
   "cell_type": "markdown",
   "metadata": {},
   "source": [
    "Purpose of Chunking \n",
    "1. Text are easier to filter(incase of debugging)\n",
    "2. Text can fit into our Embedding model context window( 384 token as limit)\n",
    "3. LLM can be more focussed and specif\n",
    "\n",
    "e.,g ->\n",
    "[20] ->[10,10]"
   ]
  },
  {
   "cell_type": "code",
   "execution_count": 36,
   "metadata": {},
   "outputs": [],
   "source": [
    "num_sentence_chunk_size=10 \n",
    "\n",
    "\n",
    "def split_list(input_list:list[str],\n",
    "               slice_size:int = num_sentence_chunk_size) -> list[list[str]]:\n",
    "    return [input_list[i:i+split_size] for i in range(0,len(input_list),slice_size)]"
   ]
  },
  {
   "cell_type": "code",
   "execution_count": null,
   "metadata": {},
   "outputs": [],
   "source": [
    "list(range(25))"
   ]
  }
 ],
 "metadata": {
  "kernelspec": {
   "display_name": "Python 3",
   "language": "python",
   "name": "python3"
  },
  "language_info": {
   "codemirror_mode": {
    "name": "ipython",
    "version": 3
   },
   "file_extension": ".py",
   "mimetype": "text/x-python",
   "name": "python",
   "nbconvert_exporter": "python",
   "pygments_lexer": "ipython3",
   "version": "3.11.7"
  }
 },
 "nbformat": 4,
 "nbformat_minor": 2
}
